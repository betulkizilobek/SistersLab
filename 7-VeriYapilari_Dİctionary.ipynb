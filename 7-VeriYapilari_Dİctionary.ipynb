{
 "cells": [
  {
   "cell_type": "markdown",
   "metadata": {},
   "source": [
    "Bir anaharın varlığını kontrol etme"
   ]
  },
  {
   "cell_type": "code",
   "execution_count": 25,
   "metadata": {},
   "outputs": [
    {
     "name": "stdout",
     "output_type": "stream",
     "text": [
      "{'Adana': 1, 'Antalya': 7, 'Kayseri': 38, 'İzmir': 35, 'Giresun': 28, 'İstanbul': 34}\n"
     ]
    }
   ],
   "source": [
    "cities = {\"Adana\":1, \"Antalya\":7, \"Kayseri\":38, \"İzmir\":35, \"Giresun\":28}\n",
    "\n",
    "if \"İstanbul\" not in cities.keys():\n",
    "     cities[\"İstanbul\"] = 34\n",
    "\n",
    "print(cities)     "
   ]
  },
  {
   "cell_type": "markdown",
   "metadata": {},
   "source": [
    "İki sözlüğü birleştirme\n",
    "\n",
    "* update\n",
    "* ** ile"
   ]
  },
  {
   "cell_type": "code",
   "execution_count": 26,
   "metadata": {},
   "outputs": [
    {
     "name": "stdout",
     "output_type": "stream",
     "text": [
      "{'Adana': 1, 'Antalya': 7, 'Kayseri': 38, 'İzmir': 35, 'Giresın': 28, 'Manisa': 45, 'Van': 65}\n",
      "{'Manisa': 45, 'Van': 65}\n"
     ]
    }
   ],
   "source": [
    "#update()\n",
    "cities = {\"Adana\":1, \"Antalya\":7, \"Kayseri\":38, \"İzmir\":35, \"Giresın\":28}\n",
    "cities2 = {\"Manisa\":45, \"Van\":65}\n",
    "\n",
    "cities.update(cities2) \n",
    "\n",
    "print(cities)\n",
    "print(cities2)"
   ]
  },
  {
   "cell_type": "code",
   "execution_count": 27,
   "metadata": {},
   "outputs": [
    {
     "name": "stdout",
     "output_type": "stream",
     "text": [
      "{'Adana': 1, 'Antalya': 7, 'Kayseri': 38, 'İzmir': 35, 'Giresın': 28, 'Manisa': 45, 'Van': 65}\n"
     ]
    }
   ],
   "source": [
    "#** ile\n",
    "cities = {\"Adana\":1, \"Antalya\":7, \"Kayseri\":38, \"İzmir\":35, \"Giresın\":28}\n",
    "cities2 = {\"Manisa\":45, \"Van\":65}\n",
    "\n",
    "new_cities = {**cities, **cities2}\n",
    "print(new_cities)"
   ]
  },
  {
   "cell_type": "code",
   "execution_count": 28,
   "metadata": {},
   "outputs": [
    {
     "name": "stdout",
     "output_type": "stream",
     "text": [
      "{'Adana': 1, 'Antalya': 7, 'Kayseri': 38, 'İzmir': 35, 'Giresun': 28, 'Manisa': 45, 'Van': 65}\n"
     ]
    }
   ],
   "source": [
    "#her iki sözlükte aynı key değeri yer aldığında son dictionary içerisindeki key değeri kabul edilir.\n",
    "cities = {\"Adana\":2, \"Antalya\":7, \"Kayseri\":38, \"İzmir\":35, \"Giresun\":28}\n",
    "cities2 = {\"Manisa\":45, \"Van\":65, \"Adana\":1}\n",
    "\n",
    "new_cities = {**cities, **cities2}\n",
    "print(new_cities)\n",
    "\n",
    "\n"
   ]
  },
  {
   "cell_type": "markdown",
   "metadata": {},
   "source": [
    "**Dictionary Kopyalama İşlemleri**\n",
    "\n",
    "* copy()\n",
    "* dict()\n",
    "* = operatörü"
   ]
  },
  {
   "cell_type": "code",
   "execution_count": 29,
   "metadata": {},
   "outputs": [
    {
     "name": "stdout",
     "output_type": "stream",
     "text": [
      "{1: 'Voleybol', 2: 'Basketbol', 3: 'Tenis', 4: 'Yüzme', 5: 'Futbol', 6: 'Oryantiring'}\n",
      "{1: 'Voleybol', 2: 'Basketbol', 3: 'Tenis', 4: 'Yüzme', 5: 'Futbol'}\n"
     ]
    }
   ],
   "source": [
    "#copy()\n",
    "sports = {\n",
    "    1: \"Voleybol\",\n",
    "    2: \"Basketbol\",\n",
    "    3: \"Tenis\",   \n",
    "    4: \"Yüzme\",\n",
    "    5: \"Futbol\"    \n",
    "             \n",
    "}\n",
    "\n",
    "copy_sports = sports.copy()\n",
    "\n",
    "copy_sports[6] = \"Oryantiring\"\n",
    "\n",
    "print(copy_sports)\n",
    "print(sports)"
   ]
  },
  {
   "cell_type": "code",
   "execution_count": 30,
   "metadata": {},
   "outputs": [
    {
     "name": "stdout",
     "output_type": "stream",
     "text": [
      "{1: 'Voleybol', 2: 'Basketbol', 3: 'Tenis', 4: 'Yüzme', 5: 'Futbol', 6: 'Oryantiring'}\n",
      "{1: 'Voleybol', 2: 'Basketbol', 3: 'Tenis', 4: 'Yüzme', 5: 'Futbol', 6: 'Oryantiring'}\n"
     ]
    }
   ],
   "source": [
    "# = operatörü\n",
    "sports = {\n",
    "    1: \"Voleybol\",\n",
    "    2: \"Basketbol\",\n",
    "    3: \"Tenis\",   \n",
    "    4: \"Yüzme\",\n",
    "    5: \"Futbol\"    \n",
    "             \n",
    "}\n",
    "\n",
    "new_sports = sports\n",
    "new_sports[6] = \"Oryantiring\"\n",
    "\n",
    "print(new_sports)\n",
    "print(sports)"
   ]
  },
  {
   "cell_type": "code",
   "execution_count": 31,
   "metadata": {},
   "outputs": [
    {
     "name": "stdout",
     "output_type": "stream",
     "text": [
      "{1: 'Voleybol', 2: 'Basketbol', 3: 'Tenis', 4: 'Yüzme', 5: 'Futbol', 6: 'Oryantiring'}\n",
      "{1: 'Voleybol', 2: 'Basketbol', 3: 'Tenis', 4: 'Yüzme', 5: 'Futbol'}\n"
     ]
    }
   ],
   "source": [
    "#dict()\n",
    "sports = {\n",
    "    1: \"Voleybol\",\n",
    "    2: \"Basketbol\",\n",
    "    3: \"Tenis\",   \n",
    "    4: \"Yüzme\",\n",
    "    5: \"Futbol\"  \n",
    "}\n",
    "dict_sports = dict(sports)\n",
    "dict_sports[6] = \"Oryantiring\"\n",
    "\n",
    "print(dict_sports)\n",
    "print(sports)"
   ]
  },
  {
   "cell_type": "markdown",
   "metadata": {},
   "source": [
    "**İç İçe Sözlükler**\n",
    "Bİlgilerin içine detaylı bilgi istenirse yaparız"
   ]
  },
  {
   "cell_type": "code",
   "execution_count": 32,
   "metadata": {},
   "outputs": [
    {
     "data": {
      "text/plain": [
       "{'name': 'Aysel',\n",
       " 'GSM': '05218792645',\n",
       " 'email': 'betul.kizilobek@gmail.com',\n",
       " 'adres': {'adana': 'Merkez', 'istanbul': 'Pendik', 'iş': 'Maltepe'}}"
      ]
     },
     "execution_count": 32,
     "metadata": {},
     "output_type": "execute_result"
    }
   ],
   "source": [
    "my_info = {\n",
    "    \"name\": \"Aysel\",\n",
    "    \"GSM\":\"05218792645\",\n",
    "    \"email\": \"betul.kizilobek@gmail.com\",\n",
    "    \"adres\":{\"adana\":\"Merkez\", \"istanbul\":\"Pendik\", \"iş\":\"Maltepe\"}\n",
    "}\n",
    "\n",
    "my_info"
   ]
  },
  {
   "cell_type": "code",
   "execution_count": 33,
   "metadata": {},
   "outputs": [
    {
     "data": {
      "text/plain": [
       "'Pendik'"
      ]
     },
     "execution_count": 33,
     "metadata": {},
     "output_type": "execute_result"
    }
   ],
   "source": [
    "#my infonun içinden istanbula erişmek\n",
    "\n",
    "my_info = {\n",
    "    \"name\": \"Aysel\",\n",
    "    \"GSM\":\"05218792645\",\n",
    "    \"email\": \"betul.kizilobek@gmail.com\",\n",
    "    \"adres\":{\"adana\":\"Merkez\", \"istanbul\":\"Pendik\", \"iş\":\"Maltepe\"}\n",
    "}\n",
    "\n",
    "my_info[\"adres\"][\"istanbul\"]\n",
    "\n"
   ]
  },
  {
   "cell_type": "code",
   "execution_count": 34,
   "metadata": {},
   "outputs": [
    {
     "name": "stdout",
     "output_type": "stream",
     "text": [
      "[1, 2, 3, 4, 5]\n",
      "[(1, 'Voleybol'), (2, 'Basketbol'), (3, 'Tenis'), (4, 'Yüzme'), (5, 'Futbol')]\n",
      "['Basketbol', 'Futbol', 'Tenis', 'Voleybol', 'Yüzme']\n"
     ]
    }
   ],
   "source": [
    "sports = {\n",
    "    1: \"Voleybol\",\n",
    "    2: \"Basketbol\",\n",
    "    3: \"Tenis\",   \n",
    "    4: \"Yüzme\",\n",
    "    5: \"Futbol\"  \n",
    "}\n",
    "\n",
    "print(sorted(sports.keys()))\n",
    "print(sorted(sports.items()))\n",
    "print(sorted(sports.values()))\n"
   ]
  },
  {
   "cell_type": "code",
   "execution_count": 35,
   "metadata": {},
   "outputs": [
    {
     "data": {
      "text/plain": [
       "{'hidrojen': 9, 'oksijen': 15, 'helyum': 8, 'karbon': 12}"
      ]
     },
     "execution_count": 35,
     "metadata": {},
     "output_type": "execute_result"
    }
   ],
   "source": [
    "#key değerlerinin uzunluğu kadar value değerine ekleme yapalım\n",
    "elements = {\n",
    "    \"hidrojen\":1,\n",
    "    \"oksijen\":8,\n",
    "    \"helyum\":2,\n",
    "    \"karbon\":6\n",
    "}\n",
    "\n",
    "for key, value in elements.items():\n",
    "    elements[key] = len(key) + value\n",
    "\n",
    "elements"
   ]
  },
  {
   "cell_type": "code",
   "execution_count": 36,
   "metadata": {},
   "outputs": [
    {
     "name": "stdout",
     "output_type": "stream",
     "text": [
      "{'Merve': 35, 'Emre': 38, 'Ayşe': 24, 'Asena': 27, 'Ezgi': 31}\n"
     ]
    }
   ],
   "source": [
    "my_dict1 = {\"Merve\":35, \"Emre\":27, \"Ayşe\":24}\n",
    "my_dict2 = {\"Asena\":27, \"Ezgi\":31, \"Emre\":38}\n",
    "\n",
    "new_dict = {**my_dict1, **my_dict2}\n",
    "print(new_dict)"
   ]
  },
  {
   "cell_type": "code",
   "execution_count": 37,
   "metadata": {},
   "outputs": [
    {
     "name": "stdout",
     "output_type": "stream",
     "text": [
      "{'Merve': 35, 'Emre': 38, 'Ayşe': 24, 'Asena': 27, 'Ezgi': 31}\n"
     ]
    }
   ],
   "source": [
    "my_dict1 = {\"Merve\":35, \"Emre\":27, \"Ayşe\":24}\n",
    "my_dict2 = {\"Asena\":27, \"Ezgi\":31, \"Emre\":38}\n",
    "\n",
    "my_dict1.update(my_dict2)\n",
    "print(my_dict1)"
   ]
  },
  {
   "cell_type": "code",
   "execution_count": 38,
   "metadata": {},
   "outputs": [
    {
     "ename": "KeyError",
     "evalue": "'key'",
     "output_type": "error",
     "traceback": [
      "\u001b[1;31m---------------------------------------------------------------------------\u001b[0m",
      "\u001b[1;31mKeyError\u001b[0m                                  Traceback (most recent call last)",
      "Cell \u001b[1;32mIn [38], line 3\u001b[0m\n\u001b[0;32m      1\u001b[0m my_dict \u001b[39m=\u001b[39m {\u001b[39m\"\u001b[39m\u001b[39mPython\u001b[39m\u001b[39m\"\u001b[39m:{\u001b[39m\"\u001b[39m\u001b[39mweeks\u001b[39m\u001b[39m\"\u001b[39m:{\u001b[39m\"\u001b[39m\u001b[39mdata_structures\u001b[39m\u001b[39m\"\u001b[39m:\u001b[39m\"\u001b[39m\u001b[39mlist\u001b[39m\u001b[39m\"\u001b[39m, \u001b[39mdict\u001b[39m:{\u001b[39m\"\u001b[39m\u001b[39mkey\u001b[39m\u001b[39m\"\u001b[39m:\u001b[39m0\u001b[39m, \u001b[39m\"\u001b[39m\u001b[39mvalue\u001b[39m\u001b[39m\"\u001b[39m:\u001b[39m1\u001b[39m}}}}\n\u001b[1;32m----> 3\u001b[0m my_dict[\u001b[39m\"\u001b[39;49m\u001b[39mPython\u001b[39;49m\u001b[39m\"\u001b[39;49m][\u001b[39m\"\u001b[39;49m\u001b[39mweeks\u001b[39;49m\u001b[39m\"\u001b[39;49m][\u001b[39m\"\u001b[39;49m\u001b[39mkey\u001b[39;49m\u001b[39m\"\u001b[39;49m]\n",
      "\u001b[1;31mKeyError\u001b[0m: 'key'"
     ]
    }
   ],
   "source": [
    "my_dict = {\"Python\":{\"weeks\":{\"data_structures\":\"list\", dict:{\"key\":0, \"value\":1}}}}\n",
    "\n",
    "my_dict[\"Python\"][\"weeks\"][\"key\"]"
   ]
  },
  {
   "cell_type": "code",
   "execution_count": null,
   "metadata": {},
   "outputs": [],
   "source": [
    "#2 listeyi birleştirip bir sözlük oluşturalım\n",
    "\n",
    "keys = [\"Adana\", \"İsntabul\", \"Van\"]\n",
    "values = [1, 34, 65]\n",
    "\n",
    "my_dict = {}\n",
    "for i in range(len(keys)):\n",
    "    my_dict.update({keys[i]:values[i]})\n",
    "\n",
    "my_dict   "
   ]
  },
  {
   "cell_type": "code",
   "execution_count": null,
   "metadata": {},
   "outputs": [],
   "source": [
    "#2 listeyi birleştirip bir sözlük oluşturalım (kısa yol)\n",
    "keys = [\"Adana\", \"İsntabul\", \"Van\"]\n",
    "values = [1, 34, 65]\n",
    "\n",
    "my_dict = dict(zip(keys, values))\n",
    "\n",
    "my_dict"
   ]
  },
  {
   "cell_type": "code",
   "execution_count": null,
   "metadata": {},
   "outputs": [],
   "source": [
    "#friends dizisinin oyuncularının ismini Joey Tribbianni -> joey_tribbianni haline getir\n",
    "friends = {\n",
    "    \"joey\":\"Joey Tribbianni\",\n",
    "    \"rachel\":\"Rachel Green\",\n",
    "    \"ross\":\"Ross Geller\",\n",
    "    \"Monica\":\"Monica Geller\",\n",
    "    \"phoebe\":\"Phoebe Buffay\",\n",
    "    \"chandler\":\"Chandler Bing\",\n",
    "}\n",
    "\n",
    "for key, value in friends.items():\n",
    "    friends.update[{key:value.replace(\" \", \"_\").lower()}]\n",
    "\n"
   ]
  }
 ],
 "metadata": {
  "kernelspec": {
   "display_name": "Python 3.10.8 64-bit (microsoft store)",
   "language": "python",
   "name": "python3"
  },
  "language_info": {
   "codemirror_mode": {
    "name": "ipython",
    "version": 3
   },
   "file_extension": ".py",
   "mimetype": "text/x-python",
   "name": "python",
   "nbconvert_exporter": "python",
   "pygments_lexer": "ipython3",
   "version": "3.10.8"
  },
  "orig_nbformat": 4,
  "vscode": {
   "interpreter": {
    "hash": "620709bbe62f41b2903c09c00116fe3b30041141e7e6e4a577e7caf8b0281995"
   }
  }
 },
 "nbformat": 4,
 "nbformat_minor": 2
}
