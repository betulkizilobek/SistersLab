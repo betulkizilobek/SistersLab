{
 "cells": [
  {
   "cell_type": "markdown",
   "metadata": {},
   "source": [
    "**Döngüler**\n",
    "\n",
    "* range\n",
    "* for\n",
    "* while\n",
    "\n",
    "range(start_value, end_value, step)\n",
    "\n",
    "Belirtilmediği durumlarda; **start_value** = 0, **step** = 1 kabul edilir. end_value dahil değildir."
   ]
  },
  {
   "cell_type": "code",
   "execution_count": null,
   "metadata": {},
   "outputs": [],
   "source": [
    "range(5) # range(0, 5, 1)\n",
    "\n",
    "range(2, 34, 3)\n",
    "\n",
    "range(100, 1, -5)"
   ]
  },
  {
   "cell_type": "code",
   "execution_count": null,
   "metadata": {},
   "outputs": [],
   "source": [
    "for item in range(5):\n",
    "  print(item)"
   ]
  },
  {
   "cell_type": "code",
   "execution_count": null,
   "metadata": {},
   "outputs": [],
   "source": [
    "for i in range(0, 34, 3):\n",
    "  print(i)"
   ]
  },
  {
   "cell_type": "code",
   "execution_count": null,
   "metadata": {},
   "outputs": [],
   "source": [
    "for x in range(40, 1, -5):\n",
    "  print(x)"
   ]
  },
  {
   "cell_type": "markdown",
   "metadata": {},
   "source": [
    "**break**\n",
    "\n",
    "* İstenen koşul sağlandığında döngüyü kırar ve çıkar."
   ]
  },
  {
   "cell_type": "code",
   "execution_count": null,
   "metadata": {},
   "outputs": [],
   "source": [
    "for x in range(40, 1, -5):\n",
    "  if x <= 20:\n",
    "    break\n",
    "  print(x)\n",
    "\n",
    "print(\"Bitti\")"
   ]
  },
  {
   "cell_type": "markdown",
   "metadata": {},
   "source": [
    "**continue**\n",
    "\n",
    "* İstenen koşulu atlayıp döngüye devam eder.\n",
    "\n"
   ]
  },
  {
   "cell_type": "code",
   "execution_count": null,
   "metadata": {},
   "outputs": [],
   "source": [
    "for x in range(40, 1, -5):\n",
    "  if x % 2 == 0:\n",
    "    continue\n",
    "  print(x)"
   ]
  },
  {
   "cell_type": "markdown",
   "metadata": {},
   "source": [
    "**while**\n",
    "\n",
    "* Koşul sağlandığı sürece döngüye devam eder."
   ]
  },
  {
   "cell_type": "code",
   "execution_count": null,
   "metadata": {},
   "outputs": [],
   "source": [
    "count = 1\n",
    "while count < 5:\n",
    "  print(count)\n",
    "  count += 1\n",
    "  \n",
    "print(\"Döngü tamamlandı\")"
   ]
  },
  {
   "cell_type": "markdown",
   "metadata": {},
   "source": [
    "**Sonsuz Döngü**"
   ]
  },
  {
   "cell_type": "code",
   "execution_count": null,
   "metadata": {},
   "outputs": [],
   "source": [
    "count = 1\n",
    "while count < 5:\n",
    "  print(count)"
   ]
  },
  {
   "cell_type": "code",
   "execution_count": null,
   "metadata": {},
   "outputs": [],
   "source": [
    "number = 5\n",
    "for i in range(number):\n",
    "  for j in range(i + 1):\n",
    "    print(\"*\", end=\" \") # end ifadesi yan yana yazmaya yarar\n",
    "  print()"
   ]
  },
  {
   "cell_type": "code",
   "execution_count": null,
   "metadata": {},
   "outputs": [],
   "source": [
    "number = 5\n",
    "for i in range(1, number + 1):\n",
    "  print(\"* \"*i)"
   ]
  },
  {
   "cell_type": "code",
   "execution_count": null,
   "metadata": {},
   "outputs": [],
   "source": [
    "print(\"Python\"*6)"
   ]
  },
  {
   "cell_type": "markdown",
   "metadata": {},
   "source": [
    "*Kullanıcıdan bir sayı alıp ardından 0 ile girilen değer arasındaki sayıların toplamını veren kod blogunu yazınız.*\n"
   ]
  },
  {
   "cell_type": "code",
   "execution_count": null,
   "metadata": {},
   "outputs": [],
   "source": [
    "number = int(input(\"Bir sayı giriniz: \"))\n",
    "total = 0\n",
    "for i in range(1, number + 1):\n",
    "  total += i\n",
    "\n",
    "print(\"0 ile {} sayıları arasındaki sayıların toplamı {}\".format(number, total))"
   ]
  },
  {
   "cell_type": "markdown",
   "metadata": {},
   "source": [
    "*Bir sayının kaç basamaklı olduğunu hesaplayalım.*"
   ]
  },
  {
   "cell_type": "code",
   "execution_count": null,
   "metadata": {},
   "outputs": [],
   "source": [
    "x = 6200\n",
    "count = 0\n",
    "\n",
    "while x != 0:\n",
    "  count += 1\n",
    "  x = x // 10\n",
    "\n",
    "print(f\"Sayı {count} basamaklıdır.\")"
   ]
  },
  {
   "cell_type": "markdown",
   "metadata": {},
   "source": [
    "*Bir aralık belirleyip bu aralıktaki tüm asal sayıları ekrana yazın.*"
   ]
  },
  {
   "cell_type": "code",
   "execution_count": null,
   "metadata": {},
   "outputs": [],
   "source": [
    "start_value = 3\n",
    "end_value = 20\n",
    "\n",
    "for i in range(start_value, end_value):\n",
    "  asal = True\n",
    "  for j in range(2, i):\n",
    "    if i % j == 0:\n",
    "      asal = False\n",
    "      break\n",
    "  if asal:\n",
    "    print(i)"
   ]
  },
  {
   "cell_type": "markdown",
   "metadata": {},
   "source": [
    "*Fibonacci serisini ekrana bastıran kod blogunu yazınız.*"
   ]
  },
  {
   "cell_type": "code",
   "execution_count": null,
   "metadata": {},
   "outputs": [],
   "source": [
    "num1, num2 = 0, 1\n",
    "x = int(input(\"Seri için bir sayı giriniz: \"))\n",
    "\n",
    "for i in range(x):\n",
    "  print(num1, end=\" \")\n",
    "  total = num1 + num2\n",
    "  num1 = num2\n",
    "  num2 = total"
   ]
  },
  {
   "cell_type": "markdown",
   "metadata": {},
   "source": [
    "*Girilen sayıyı tersine çevirelim.*"
   ]
  },
  {
   "cell_type": "code",
   "execution_count": null,
   "metadata": {},
   "outputs": [],
   "source": [
    "a = 5689\n",
    "print(\"Girilen sayı: \", a)\n",
    "new_number = 0\n",
    "while a > 0:\n",
    "  temp = a % 10\n",
    "  new_number = new_number * 10 + temp\n",
    "  a //= 10\n",
    "\n",
    "print(\"Ters çevrilmiş hali: \", new_number)"
   ]
  }
 ],
 "metadata": {
  "kernelspec": {
   "display_name": "Python 3.10.8 64-bit (microsoft store)",
   "language": "python",
   "name": "python3"
  },
  "language_info": {
   "name": "python",
   "version": "3.10.8"
  },
  "orig_nbformat": 4,
  "vscode": {
   "interpreter": {
    "hash": "620709bbe62f41b2903c09c00116fe3b30041141e7e6e4a577e7caf8b0281995"
   }
  }
 },
 "nbformat": 4,
 "nbformat_minor": 2
}
