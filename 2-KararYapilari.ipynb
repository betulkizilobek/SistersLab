{
 "cells": [
  {
   "cell_type": "markdown",
   "metadata": {},
   "source": [
    "**Kontrol Yapıları**\n",
    "\n",
    "* < Küçüktür\n",
    "\n",
    "* '>' Büyüktür\n",
    "\n",
    "* <= Küçük Eşittir\n",
    "\n",
    "* '>=' Büyük Eşittir\n",
    "\n",
    "* == Eşittir\n",
    "\n",
    "* != Eşit Değildir"
   ]
  },
  {
   "cell_type": "code",
   "execution_count": 1,
   "metadata": {},
   "outputs": [
    {
     "name": "stdout",
     "output_type": "stream",
     "text": [
      "y değeri x değerinden büyüktür!\n"
     ]
    }
   ],
   "source": [
    "x = 12\n",
    "y = 18\n",
    "\n",
    "if y > x:\n",
    "  print(\"y değeri x değerinden büyüktür!\")"
   ]
  },
  {
   "cell_type": "code",
   "execution_count": 2,
   "metadata": {},
   "outputs": [
    {
     "name": "stdout",
     "output_type": "stream",
     "text": [
      "y değeri x değerine eşittir!\n"
     ]
    }
   ],
   "source": [
    "x = 12\n",
    "y = 12\n",
    "\n",
    "if y > x:\n",
    "  print(\"y değeri x değerinden büyüktür!\")\n",
    "elif y == x:\n",
    "  print(\"y değeri x değerine eşittir!\")"
   ]
  },
  {
   "cell_type": "code",
   "execution_count": 3,
   "metadata": {},
   "outputs": [
    {
     "name": "stdout",
     "output_type": "stream",
     "text": [
      "y değeri x değerinden küçüktür!\n"
     ]
    }
   ],
   "source": [
    "x = 18\n",
    "y = 12\n",
    "\n",
    "if y > x:\n",
    "  print(\"y değeri x değerinden büyüktür!\")\n",
    "elif y == x:\n",
    "  print(\"y değeri x değerine eşittir!\")\n",
    "else:\n",
    "  print(\"y değeri x değerinden küçüktür!\")"
   ]
  },
  {
   "cell_type": "markdown",
   "metadata": {},
   "source": [
    "*Kullanıcıdan iki sayı alalım. İlk kullanımda >= kullanılacak. içe içe kontrol yapısı kullanılacak şekilde.*"
   ]
  },
  {
   "cell_type": "code",
   "execution_count": 4,
   "metadata": {},
   "outputs": [
    {
     "name": "stdout",
     "output_type": "stream",
     "text": [
      "12 değeri 25 değerinden küçüktür\n"
     ]
    }
   ],
   "source": [
    "num1 = int(input(\"İlk sayıyı giriniz: \"))\n",
    "num2 = int(input(\"İkinci sayıyı giriniz: \"))\n",
    "\n",
    "if num1 >= num2:\n",
    "  if num1 == num2:\n",
    "    print(\"{} değeri {} değerine eşittir\".format(num1, num2))\n",
    "  else:\n",
    "    print(f\"{num1} değeri {num2} değerinden büyüktür\")    \n",
    "else:\n",
    "  print(f\"{num1} değeri {num2} değerinden küçüktür\")"
   ]
  },
  {
   "cell_type": "code",
   "execution_count": 5,
   "metadata": {},
   "outputs": [
    {
     "name": "stdout",
     "output_type": "stream",
     "text": [
      "True\n"
     ]
    }
   ],
   "source": [
    "result = True\n",
    "\n",
    "if result: \n",
    "  print(\"True\")\n",
    "  result = False\n",
    "else: print(\"False\")"
   ]
  }
 ],
 "metadata": {
  "kernelspec": {
   "display_name": "Python 3.10.8 64-bit (microsoft store)",
   "language": "python",
   "name": "python3"
  },
  "language_info": {
   "codemirror_mode": {
    "name": "ipython",
    "version": 3
   },
   "file_extension": ".py",
   "mimetype": "text/x-python",
   "name": "python",
   "nbconvert_exporter": "python",
   "pygments_lexer": "ipython3",
   "version": "3.10.8"
  },
  "orig_nbformat": 4,
  "vscode": {
   "interpreter": {
    "hash": "620709bbe62f41b2903c09c00116fe3b30041141e7e6e4a577e7caf8b0281995"
   }
  }
 },
 "nbformat": 4,
 "nbformat_minor": 2
}
