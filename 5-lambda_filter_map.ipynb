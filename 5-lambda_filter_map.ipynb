{
 "cells": [
  {
   "cell_type": "markdown",
   "metadata": {},
   "source": [
    "* lambda\n",
    "* filter\n",
    "* map\n",
    "\n",
    "**lambda arguments: expression**\n",
    "\n",
    "Syntax olarak sadece bir ifade(expression) ve birden fazla parametre(arguments) alabilir"
   ]
  },
  {
   "cell_type": "code",
   "execution_count": 15,
   "metadata": {},
   "outputs": [
    {
     "name": "stdout",
     "output_type": "stream",
     "text": [
      "30\n"
     ]
    }
   ],
   "source": [
    "double = lambda x: x * 2 #x->arguments x*2->expression\n",
    "\n",
    "print(double(15))"
   ]
  },
  {
   "cell_type": "code",
   "execution_count": 16,
   "metadata": {},
   "outputs": [
    {
     "name": "stdout",
     "output_type": "stream",
     "text": [
      "30\n"
     ]
    }
   ],
   "source": [
    "def double(x):\n",
    "    return x*2\n",
    "\n",
    "print(double(15))"
   ]
  },
  {
   "cell_type": "markdown",
   "metadata": {},
   "source": [
    "*default değer verme*"
   ]
  },
  {
   "cell_type": "code",
   "execution_count": 17,
   "metadata": {},
   "outputs": [
    {
     "name": "stdout",
     "output_type": "stream",
     "text": [
      "4\n",
      "30\n"
     ]
    }
   ],
   "source": [
    "double = lambda x = 2: x * 2\n",
    "\n",
    "print(double())\n",
    "print(double(15))"
   ]
  },
  {
   "cell_type": "code",
   "execution_count": 18,
   "metadata": {},
   "outputs": [
    {
     "name": "stdout",
     "output_type": "stream",
     "text": [
      "7\n"
     ]
    }
   ],
   "source": [
    "Min = lambda x, y:x if x < y else y\n",
    "\n",
    "print(Min(9, 7))"
   ]
  },
  {
   "cell_type": "markdown",
   "metadata": {},
   "source": [
    "*İç içe yer alan listeleri lambda fonk. ile sıralayalım.*"
   ]
  },
  {
   "cell_type": "code",
   "execution_count": 19,
   "metadata": {},
   "outputs": [
    {
     "name": "stdout",
     "output_type": "stream",
     "text": [
      "[[1, 2, 3, 6, 8], [1, 2, 4, 6, 9], [0, 1, 3, 5, 7]]\n"
     ]
    }
   ],
   "source": [
    "my_list = [[2, 6, 8, 3, 1], [2, 6, 4, 1, 9], [0, 7, 3, 5, 1]]\n",
    "\n",
    "sortedList = lambda use_list: (sorted(i) for i in use_list)\n",
    "\n",
    "print(list(sortedList(my_list)))"
   ]
  },
  {
   "cell_type": "code",
   "execution_count": 20,
   "metadata": {},
   "outputs": [
    {
     "name": "stdout",
     "output_type": "stream",
     "text": [
      "[[1, 2, 3, 6, 8], [1, 2, 4, 6, 9], [0, 1, 3, 5, 7]]\n"
     ]
    }
   ],
   "source": [
    "my_list = [[2, 6, 8, 3, 1], [2, 6, 4, 1, 9], [0, 7, 3, 5, 1]]\n",
    "\n",
    "def sortedList(liste):\n",
    "    for index, item in enumerate(my_list):\n",
    "        my_list[index] = sorted(item)\n",
    "\n",
    "    return my_list\n",
    "\n",
    "print(sortedList(my_list))"
   ]
  },
  {
   "cell_type": "code",
   "execution_count": 21,
   "metadata": {},
   "outputs": [
    {
     "name": "stdout",
     "output_type": "stream",
     "text": [
      "[10, 70, 90, 40, 30]\n"
     ]
    }
   ],
   "source": [
    "multiplyList = lambda x: (i*10 for i in x)\n",
    "\n",
    "print(list(multiplyList([1, 7, 9, 4, 3])))"
   ]
  },
  {
   "cell_type": "markdown",
   "metadata": {},
   "source": [
    "**filter()**\n",
    "\n",
    "Parametre olarak bir lambda yani isimsiz bir fonksiyon ve bir liste alır. Verilen ifadeye uygun elemanları işleme alır ve yeni bir liste döner.\n"
   ]
  },
  {
   "cell_type": "markdown",
   "metadata": {},
   "source": [
    "*Liste içerisindeki tek sayıları alma*"
   ]
  },
  {
   "cell_type": "code",
   "execution_count": 22,
   "metadata": {},
   "outputs": [
    {
     "name": "stdout",
     "output_type": "stream",
     "text": [
      "[89, 85, 43, 25]\n"
     ]
    }
   ],
   "source": [
    "my_list = [2,8,89,96,85,43,25]\n",
    "\n",
    "print(list(filter(lambda x: x % 2 != 0, my_list)))"
   ]
  },
  {
   "cell_type": "markdown",
   "metadata": {},
   "source": [
    "**map()**\n",
    "\n",
    "Parametre olarak bir lambda yani isimsiz bir fonksiyon ve bir liste alır."
   ]
  },
  {
   "cell_type": "markdown",
   "metadata": {},
   "source": [
    "*Liste içerisindeki tek sayıları alma*"
   ]
  },
  {
   "cell_type": "code",
   "execution_count": 23,
   "metadata": {},
   "outputs": [
    {
     "name": "stdout",
     "output_type": "stream",
     "text": [
      "[False, False, True, False, True, True, True]\n"
     ]
    }
   ],
   "source": [
    "my_list = [2,8,89,96,85,43,25]\n",
    "\n",
    "print(list(map(lambda x: x % 2 != 0, my_list)))"
   ]
  },
  {
   "cell_type": "markdown",
   "metadata": {},
   "source": [
    "*map ile her elemanın karesini alan kod bloğunu yazalım.*"
   ]
  },
  {
   "cell_type": "code",
   "execution_count": 24,
   "metadata": {},
   "outputs": [
    {
     "name": "stdout",
     "output_type": "stream",
     "text": [
      "[1, 4, 9, 16, 25, 36, 49, 0]\n"
     ]
    }
   ],
   "source": [
    "my_list = [1, 2, 3, 4, 5, 6, 7, 0]\n",
    "\n",
    "print(list(map(lambda x: x**2, my_list)))"
   ]
  },
  {
   "cell_type": "markdown",
   "metadata": {},
   "source": [
    "*map ile liste içerisindeki her listenin ilk elemanının 3 katını döndüren kod*"
   ]
  },
  {
   "cell_type": "code",
   "execution_count": 25,
   "metadata": {},
   "outputs": [
    {
     "name": "stdout",
     "output_type": "stream",
     "text": [
      "[6, 3, 6]\n"
     ]
    }
   ],
   "source": [
    "my_list = [2, 3, 5, 4, 1] , [1, 9, 7, 6, 5] , [2, 5, 6, 7, 4]\n",
    "\n",
    "print(list(map(lambda x: x[0]*3, my_list)))"
   ]
  },
  {
   "cell_type": "markdown",
   "metadata": {},
   "source": [
    "*filter ile my_list = [20, 30, 15, 10, 13, 50, 40] liste içerisinde >= 20 olanları bulup, map ile bu yeni listedeki değerleri integer bölmeyle 10 a bölelim, oluşan listeyi ekrana basalım.*"
   ]
  },
  {
   "cell_type": "code",
   "execution_count": 26,
   "metadata": {},
   "outputs": [
    {
     "name": "stdout",
     "output_type": "stream",
     "text": [
      "[2, 3, 5, 4]\n"
     ]
    }
   ],
   "source": [
    "my_list = my_list = [20, 30, 15, 10, 13, 50, 40]\n",
    "\n",
    "print(list(map(lambda x: x//10, filter(lambda x: x>= 20, [20, 30, 15, 10, 13, 50, 40]))))"
   ]
  },
  {
   "cell_type": "markdown",
   "metadata": {},
   "source": [
    "*Listenin içerisinde yer alan integer tipindeki elemanları bulalım.*"
   ]
  },
  {
   "cell_type": "code",
   "execution_count": 27,
   "metadata": {},
   "outputs": [
    {
     "name": "stdout",
     "output_type": "stream",
     "text": [
      "[34, 2]\n"
     ]
    }
   ],
   "source": [
    "my_list = [\"Betül\", 34, 2, 89.6, True, 'a']\n",
    "\n",
    "print(list(filter(lambda x: type(x) == int, my_list)))"
   ]
  },
  {
   "cell_type": "markdown",
   "metadata": {},
   "source": [
    "*Liste içerisimdeki isimleri büyük harfe çevirelim.*"
   ]
  },
  {
   "cell_type": "code",
   "execution_count": 28,
   "metadata": {},
   "outputs": [
    {
     "name": "stdout",
     "output_type": "stream",
     "text": [
      "['BETÜL', 'ULAŞ', 'BAL', 'GÜNEŞ', 'BUKET', 'AYŞE', 'NURCAN']\n"
     ]
    }
   ],
   "source": [
    "my_list = [\"Betül\", \"Ulaş\", \"Bal\", \"Güneş\", \"Buket\", \"Ayşe\", \"Nurcan\"]\n",
    "\n",
    "print(list(map(lambda x:x.upper(), my_list)))"
   ]
  }
 ],
 "metadata": {
  "kernelspec": {
   "display_name": "Python 3.10.8 64-bit (microsoft store)",
   "language": "python",
   "name": "python3"
  },
  "language_info": {
   "codemirror_mode": {
    "name": "ipython",
    "version": 3
   },
   "file_extension": ".py",
   "mimetype": "text/x-python",
   "name": "python",
   "nbconvert_exporter": "python",
   "pygments_lexer": "ipython3",
   "version": "3.10.8"
  },
  "orig_nbformat": 4,
  "vscode": {
   "interpreter": {
    "hash": "620709bbe62f41b2903c09c00116fe3b30041141e7e6e4a577e7caf8b0281995"
   }
  }
 },
 "nbformat": 4,
 "nbformat_minor": 2
}
