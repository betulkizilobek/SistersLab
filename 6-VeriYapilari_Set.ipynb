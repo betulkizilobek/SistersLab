{
 "cells": [
  {
   "cell_type": "markdown",
   "metadata": {},
   "source": [
    "**Set** \n",
    "* index ile erişilemezler. unordered yani sıralı değillerdir. (liste ve tuppledan farklı olarak). bir sete erişmek istediğinizdeseti sıralama her seferinde farklılaşacaktır.\n",
    "* Set'ler değiştirilemezler, yani immutable. (tupledan farkı set'lere yeni eleman ekliyebiliyoruz, random olarak silebiliyoruz) Ama setin içerisindeki bir elemanı değiştiremiyoruz.\n",
    "* {} parantez içerisindie tanımlanır. Elemanlar virgül ile ayrılır.\n",
    "* Farklı tipte veri taşımaya izin verir.\n",
    "* Aynı değere sahip iki eleman yer alamaz. Duplicate veri taşımazlar."
   ]
  },
  {
   "cell_type": "code",
   "execution_count": 2,
   "metadata": {},
   "outputs": [
    {
     "name": "stdout",
     "output_type": "stream",
     "text": [
      "{8, False, 1578.4, 'Merve'}\n"
     ]
    }
   ],
   "source": [
    "int_set = {1,2,3,4}\n",
    "string_set = {\"Betül\" , \"Sena\" , \" Ayşe\"}\n",
    "\n",
    "mix_set = {8, \"Merve\" , 1578.4, False}\n",
    "\n",
    "print(mix_set)"
   ]
  },
  {
   "cell_type": "markdown",
   "metadata": {},
   "source": [
    "veri yapısının türünü hatırlayamazsak parantezlere bak \n",
    "\n",
    "print(type(mix_set)) \n",
    "\n",
    "olarak anlayabilirsin. "
   ]
  },
  {
   "cell_type": "code",
   "execution_count": 3,
   "metadata": {},
   "outputs": [
    {
     "name": "stdout",
     "output_type": "stream",
     "text": [
      "{0, 1, 2, 3, 8, 9}\n"
     ]
    }
   ],
   "source": [
    "my_set = {1, 3, 8, 1, 2, 8, 0, 9}\n",
    "print(my_set)"
   ]
  },
  {
   "cell_type": "code",
   "execution_count": 10,
   "metadata": {},
   "outputs": [
    {
     "name": "stdout",
     "output_type": "stream",
     "text": [
      "[1, 3, 8, 1, 2, 'Ece', 'Ece', True, 8, False, 0, 9, 19, False, 3, 2]\n",
      "{False, 1, 2, 3, 8, 9, 'Ece', 19}\n"
     ]
    }
   ],
   "source": [
    "my_list = [1, 3, 8, 1, 2, \"Ece\", \"Ece\", True, 8, False, 0, 9, 19, False, 3, 2]\n",
    "print(my_list)\n",
    "\n",
    "my_set = set(my_list)\n",
    "print(my_set)"
   ]
  },
  {
   "cell_type": "code",
   "execution_count": 12,
   "metadata": {},
   "outputs": [
    {
     "ename": "TypeError",
     "evalue": "unhashable type: 'list'",
     "output_type": "error",
     "traceback": [
      "\u001b[1;31m---------------------------------------------------------------------------\u001b[0m",
      "\u001b[1;31mTypeError\u001b[0m                                 Traceback (most recent call last)",
      "Cell \u001b[1;32mIn [12], line 1\u001b[0m\n\u001b[1;32m----> 1\u001b[0m my_set \u001b[39m=\u001b[39m {\u001b[39m\"\u001b[39m\u001b[39mAyşe Nur\u001b[39m\u001b[39m\"\u001b[39m, \u001b[39m\"\u001b[39m\u001b[39mDuygu\u001b[39m\u001b[39m\"\u001b[39m, \u001b[39m\"\u001b[39m\u001b[39mBaşak\u001b[39m\u001b[39m\"\u001b[39m, [\u001b[39m\"\u001b[39m\u001b[39mMüzeyyen\u001b[39m\u001b[39m\"\u001b[39m, \u001b[39m\"\u001b[39m\u001b[39mİrem\u001b[39m\u001b[39m\"\u001b[39m, \u001b[39m\"\u001b[39m\u001b[39mNihal\u001b[39m\u001b[39m\"\u001b[39m]}\n\u001b[0;32m      3\u001b[0m \u001b[39mprint\u001b[39m(my_set)\n",
      "\u001b[1;31mTypeError\u001b[0m: unhashable type: 'list'"
     ]
    }
   ],
   "source": [
    "#Set içerisinde list kullanımı\n",
    "my_set = {\"Ayşe Nur\", \"Duygu\", \"Başak\", [\"Müzeyyen\", \"İrem\", \"Nihal\"]}\n",
    "\n",
    "print(my_set)"
   ]
  },
  {
   "cell_type": "markdown",
   "metadata": {},
   "source": [
    "Yukarıdaki hata veren kod\n",
    "set'in içerisine liste ekleyemeyiz. ama tuple kullanabiliriz.\n",
    "setler değiştirmeye izin vermediği için listenin elemanlarını değiştirebildiğimiz için setlerde iç içe liste kullanamayız. "
   ]
  },
  {
   "cell_type": "code",
   "execution_count": 13,
   "metadata": {},
   "outputs": [
    {
     "name": "stdout",
     "output_type": "stream",
     "text": [
      "{'Başak', 'Ayşe Nur', ('Müzeyyen', 'İrem', 'Nihal'), 'Duygu'}\n"
     ]
    }
   ],
   "source": [
    "#Set içerisinde tuple kullanımı\n",
    "my_set = {\"Ayşe Nur\", \"Duygu\", \"Başak\", (\"Müzeyyen\", \"İrem\", \"Nihal\")}\n",
    "\n",
    "print(my_set)"
   ]
  },
  {
   "cell_type": "markdown",
   "metadata": {},
   "source": [
    "Boş bir set oluşturma\n",
    "\n",
    "Boş bir liste ve tuple oluşturmak istediğimizde;\n",
    "* my_list = []\n",
    "* my_tuple = ()\n",
    "\n",
    "Setlerde ise durum farklıdır"
   ]
  },
  {
   "cell_type": "code",
   "execution_count": 14,
   "metadata": {},
   "outputs": [
    {
     "name": "stdout",
     "output_type": "stream",
     "text": [
      "<class 'set'>\n"
     ]
    }
   ],
   "source": [
    "empty_set = set()\n",
    "print(type(empty_set))"
   ]
  },
  {
   "cell_type": "code",
   "execution_count": 16,
   "metadata": {},
   "outputs": [
    {
     "name": "stdout",
     "output_type": "stream",
     "text": [
      "<class 'dict'>\n"
     ]
    }
   ],
   "source": [
    "empty_set = {}\n",
    "print(type(empty_set))"
   ]
  },
  {
   "cell_type": "markdown",
   "metadata": {},
   "source": [
    "Elemanlara Erişim\n",
    "\n"
   ]
  },
  {
   "cell_type": "code",
   "execution_count": 17,
   "metadata": {},
   "outputs": [
    {
     "name": "stdout",
     "output_type": "stream",
     "text": [
      "The Big Bang Theory\n",
      "How I Met Your Mother\n",
      "Breaking Bad\n",
      "Friends\n",
      "Person of Interest\n"
     ]
    }
   ],
   "source": [
    "series = {\"How I Met Your Mother\", \"The Big Bang Theory\", \"Breaking Bad\", \"Friends\", \"Person of Interest\"}\n",
    "\n",
    "for item in series:\n",
    "    print(item)"
   ]
  },
  {
   "cell_type": "markdown",
   "metadata": {},
   "source": [
    "Set içerisinde Eleman Kontrolü\n",
    "\n",
    "in kullanarak yaparız, yoksa not in\n",
    "\n",
    "içinde var mı yok mu\n"
   ]
  },
  {
   "cell_type": "code",
   "execution_count": 18,
   "metadata": {},
   "outputs": [
    {
     "name": "stdout",
     "output_type": "stream",
     "text": [
      "Dizilier içerisinde mevcut değil\n"
     ]
    }
   ],
   "source": [
    "series = {\"How I Met Your Mother\", \"The Big Bang Theory\", \"Breaking Bad\", \"Friends\", \"Person of Interest\"}\n",
    "\n",
    "if \"Harry Potter\" in series:\n",
    "    print(\"Diziler içierisinde mevcut\")\n",
    "else: print(\"Dizilier içerisinde mevcut değil\")    "
   ]
  },
  {
   "cell_type": "markdown",
   "metadata": {},
   "source": [
    "Bir setin uzunluğunu bulurken yine len() metodunu kullanırız"
   ]
  },
  {
   "cell_type": "code",
   "execution_count": 20,
   "metadata": {},
   "outputs": [
    {
     "name": "stdout",
     "output_type": "stream",
     "text": [
      "Dizi Setinin Uzunluğu 5\n"
     ]
    }
   ],
   "source": [
    "series = {\"How I Met Your Mother\", \"The Big Bang Theory\", \"Breaking Bad\", \"Friends\", \"Person of Interest\"}\n",
    "\n",
    "print(\"Dizi Setinin Uzunluğu\" , len(series))"
   ]
  },
  {
   "cell_type": "markdown",
   "metadata": {},
   "source": [
    "Bir Set'e Eleman Ekleme\n",
    "\n",
    "* add() ile sete yeni bir elemen eklenir\n",
    "* update() ile birden fazla değer eklenir"
   ]
  },
  {
   "cell_type": "code",
   "execution_count": 21,
   "metadata": {},
   "outputs": [
    {
     "name": "stdout",
     "output_type": "stream",
     "text": [
      "{'Merhaba Dünya', 'Harry Potter', 'Mutluluk', 'Serenad', 'Huzursuzluk'}\n"
     ]
    }
   ],
   "source": [
    "books = {\"Harry Potter\", \"Serenad\", \"Mutluluk\" , \"Merhaba Dünya\"}\n",
    "\n",
    "books.add(\"Huzursuzluk\")\n",
    "\n",
    "print(books)"
   ]
  },
  {
   "cell_type": "code",
   "execution_count": 22,
   "metadata": {},
   "outputs": [
    {
     "name": "stdout",
     "output_type": "stream",
     "text": [
      "{'Merhaba Dünya', 'Harry Potter', 'Mutluluk', 'Serenad', 'Huzursuzluk'}\n",
      "{'Merhaba Dünya', 'Harry Potter', 'Mutluluk', 'Serenad', 'Huzursuzluk'}\n"
     ]
    }
   ],
   "source": [
    "#add\n",
    "books = {\"Harry Potter\", \"Serenad\", \"Mutluluk\" , \"Merhaba Dünya\"}\n",
    "\n",
    "books.add(\"Huzursuzluk\")\n",
    "print(books)\n",
    "\n",
    "books.add(\"Harry Potter\")\n",
    "print(books)"
   ]
  },
  {
   "cell_type": "code",
   "execution_count": 24,
   "metadata": {},
   "outputs": [
    {
     "data": {
      "text/plain": [
       "{'Harry Potter',\n",
       " 'Huzursuzluk',\n",
       " 'Körlük',\n",
       " 'Merhaba Dünya',\n",
       " 'Mutluluk',\n",
       " 'Serenad',\n",
       " 'Sırça Köşk'}"
      ]
     },
     "execution_count": 24,
     "metadata": {},
     "output_type": "execute_result"
    }
   ],
   "source": [
    "#update\n",
    "books = {\"Harry Potter\", \"Serenad\", \"Mutluluk\" , \"Merhaba Dünya\"}\n",
    "\n",
    "books.update([\"Körlük\", \"Sırça Köşk\"])\n",
    "\n",
    "print(books)"
   ]
  },
  {
   "cell_type": "markdown",
   "metadata": {},
   "source": [
    "Bir Set İçerisinden Eleman Silme İşlemini Beş Farklı Şekilde Yapabiliriz\n",
    "\n",
    "* remove() hangi aralığı silmek istersek değerini veririz. Set içerisinde olmayan bir değeri silmek istersek hata verir.\n",
    "* discard () remove ile aynı mantık tek farkı olmayan değeri silmek istersek hata vermez.\n",
    "* pop () rastgele bir eleman çıkartmak istediğmizde kullanırız.\n",
    "* clear () tüm elemanları siler ve boş bir set oluşturur.\n",
    "* del set tüm seti siler ve sete ulaşamayız.\n",
    "\n",
    "\n"
   ]
  },
  {
   "cell_type": "code",
   "execution_count": 25,
   "metadata": {},
   "outputs": [
    {
     "data": {
      "text/plain": [
       "{'Merhaba Dünya', 'Mutluluk', 'Serenad'}"
      ]
     },
     "execution_count": 25,
     "metadata": {},
     "output_type": "execute_result"
    }
   ],
   "source": [
    "#remove()\n",
    "books = {\"Harry Potter\", \"Serenad\", \"Mutluluk\" , \"Merhaba Dünya\"}\n",
    "\n",
    "books.remove(\"Harry Potter\")\n",
    "books"
   ]
  },
  {
   "cell_type": "code",
   "execution_count": 26,
   "metadata": {},
   "outputs": [
    {
     "data": {
      "text/plain": [
       "{'Merhaba Dünya', 'Mutluluk', 'Serenad'}"
      ]
     },
     "execution_count": 26,
     "metadata": {},
     "output_type": "execute_result"
    }
   ],
   "source": [
    "#discard()\n",
    "books = {\"Harry Potter\", \"Serenad\", \"Mutluluk\" , \"Merhaba Dünya\"}\n",
    "\n",
    "books.discard(\"Harry Potter\")\n",
    "books"
   ]
  },
  {
   "cell_type": "code",
   "execution_count": 44,
   "metadata": {},
   "outputs": [
    {
     "data": {
      "text/plain": [
       "{'Harry Potter', 'Mutluluk', 'Serenad'}"
      ]
     },
     "execution_count": 44,
     "metadata": {},
     "output_type": "execute_result"
    }
   ],
   "source": [
    "#pop()\n",
    "books = {\"Harry Potter\", \"Serenad\", \"Mutluluk\" , \"Merhaba Dünya\"}\n",
    "\n",
    "books.pop()\n",
    "\n",
    "books"
   ]
  },
  {
   "cell_type": "code",
   "execution_count": 45,
   "metadata": {},
   "outputs": [
    {
     "data": {
      "text/plain": [
       "set()"
      ]
     },
     "execution_count": 45,
     "metadata": {},
     "output_type": "execute_result"
    }
   ],
   "source": [
    "#clear()\n",
    "books = {\"Harry Potter\", \"Serenad\", \"Mutluluk\" , \"Merhaba Dünya\"}\n",
    "\n",
    "books.clear()\n",
    "\n",
    "books"
   ]
  },
  {
   "cell_type": "code",
   "execution_count": 46,
   "metadata": {},
   "outputs": [
    {
     "ename": "NameError",
     "evalue": "name 'books' is not defined",
     "output_type": "error",
     "traceback": [
      "\u001b[1;31m---------------------------------------------------------------------------\u001b[0m",
      "\u001b[1;31mNameError\u001b[0m                                 Traceback (most recent call last)",
      "Cell \u001b[1;32mIn [46], line 6\u001b[0m\n\u001b[0;32m      2\u001b[0m books \u001b[39m=\u001b[39m {\u001b[39m\"\u001b[39m\u001b[39mHarry Potter\u001b[39m\u001b[39m\"\u001b[39m, \u001b[39m\"\u001b[39m\u001b[39mSerenad\u001b[39m\u001b[39m\"\u001b[39m, \u001b[39m\"\u001b[39m\u001b[39mMutluluk\u001b[39m\u001b[39m\"\u001b[39m , \u001b[39m\"\u001b[39m\u001b[39mMerhaba Dünya\u001b[39m\u001b[39m\"\u001b[39m}\n\u001b[0;32m      4\u001b[0m \u001b[39mdel\u001b[39;00m books\n\u001b[1;32m----> 6\u001b[0m books\n",
      "\u001b[1;31mNameError\u001b[0m: name 'books' is not defined"
     ]
    }
   ],
   "source": [
    "#del()\n",
    "books = {\"Harry Potter\", \"Serenad\", \"Mutluluk\" , \"Merhaba Dünya\"}\n",
    "\n",
    "del books\n",
    "\n",
    "books"
   ]
  },
  {
   "cell_type": "markdown",
   "metadata": {},
   "source": [
    "Set Üzerinde Kullanabileceğimiz Operatörler\n",
    "\n",
    "* union() | ile kullanırız\n",
    "* instersection () % ile kullanırız\n",
    "* difference() - ile kullanırız\n",
    "* symmetric_difference() ^ ile kullanırız"
   ]
  },
  {
   "cell_type": "markdown",
   "metadata": {},
   "source": [
    "**Union()** İki seti birleştirmek için kullanırız. Ya union() olarak kullanırız ya da | bu sembol ile kullanabiliriz.\n"
   ]
  },
  {
   "cell_type": "code",
   "execution_count": 47,
   "metadata": {},
   "outputs": [
    {
     "name": "stdout",
     "output_type": "stream",
     "text": [
      "{'Ezgi', 'Hatice', 'Aysel', 'Merve', 'Kübra', 'Emre', 'Behice', 'Asena'}\n"
     ]
    }
   ],
   "source": [
    "#union\n",
    "my_set1 = {\"Aysel\", \"Merve\", \"Emre\", \"Asena\", \"Ezgi\"}\n",
    "my_set2 = {\"Merve\", \"Ezgi\", \"Hatice\", \"Behice\", \"Kübra\"}\n",
    "\n",
    "my_set3 = my_set1| my_set2\n",
    "print(my_set3)"
   ]
  },
  {
   "cell_type": "code",
   "execution_count": 48,
   "metadata": {},
   "outputs": [
    {
     "name": "stdout",
     "output_type": "stream",
     "text": [
      "{'Ezgi', 'Hatice', 'Aysel', 'Merve', 'Kübra', 'Emre', 'Behice', 'Asena'}\n"
     ]
    }
   ],
   "source": [
    "#union()\n",
    "my_set1 = {\"Aysel\", \"Merve\", \"Emre\", \"Asena\", \"Ezgi\"}\n",
    "my_set2 = {\"Merve\", \"Ezgi\", \"Hatice\", \"Behice\", \"Kübra\"}\n",
    "\n",
    "my_set4 = my_set1.union(my_set2)\n",
    "print(my_set4)\n"
   ]
  },
  {
   "cell_type": "markdown",
   "metadata": {},
   "source": [
    "**Intersection(Kesişim)** İki küme içerisinde yer alan ortak elemanları döndürür."
   ]
  },
  {
   "cell_type": "code",
   "execution_count": 49,
   "metadata": {},
   "outputs": [
    {
     "name": "stdout",
     "output_type": "stream",
     "text": [
      "{'Ezgi', 'Merve'}\n"
     ]
    }
   ],
   "source": [
    "#intersection()\n",
    "my_set1 = {\"Aysel\", \"Merve\", \"Emre\", \"Asena\", \"Ezgi\"}\n",
    "my_set2 = {\"Merve\", \"Ezgi\", \"Hatice\", \"Behice\", \"Kübra\"}\n",
    "\n",
    "my_set3 = my_set1 & my_set2\n",
    "print(my_set3)"
   ]
  },
  {
   "cell_type": "code",
   "execution_count": 50,
   "metadata": {},
   "outputs": [
    {
     "name": "stdout",
     "output_type": "stream",
     "text": [
      "{'Ezgi', 'Merve'}\n"
     ]
    }
   ],
   "source": [
    "#intersection()\n",
    "my_set1 = {\"Aysel\", \"Merve\", \"Emre\", \"Asena\", \"Ezgi\"}\n",
    "my_set2 = {\"Merve\", \"Ezgi\", \"Hatice\", \"Behice\", \"Kübra\"}\n",
    "\n",
    "my_set4 = my_set1.intersection(my_set2)\n",
    "print(my_set4)"
   ]
  },
  {
   "cell_type": "markdown",
   "metadata": {},
   "source": [
    "intersection_update\n"
   ]
  },
  {
   "cell_type": "code",
   "execution_count": 51,
   "metadata": {},
   "outputs": [
    {
     "name": "stdout",
     "output_type": "stream",
     "text": [
      "{'Ezgi', 'Merve'}\n"
     ]
    }
   ],
   "source": [
    "my_set1 = {\"Aysel\", \"Merve\", \"Emre\", \"Asena\", \"Ezgi\"}\n",
    "my_set2 = {\"Merve\", \"Ezgi\", \"Hatice\", \"Behice\", \"Kübra\"}\n",
    "\n",
    "my_set1.intersection_update(my_set2)\n",
    "print(my_set1)"
   ]
  },
  {
   "cell_type": "markdown",
   "metadata": {},
   "source": [
    "**Difference** İlk sette olup ikinci sette olmayanı buluruz, farklarını yani\n",
    " "
   ]
  },
  {
   "cell_type": "code",
   "execution_count": 52,
   "metadata": {},
   "outputs": [
    {
     "name": "stdout",
     "output_type": "stream",
     "text": [
      "{'Emre', 'Asena', 'Aysel'}\n"
     ]
    }
   ],
   "source": [
    "#difference()\n",
    "my_set1 = {\"Aysel\", \"Merve\", \"Emre\", \"Asena\", \"Ezgi\"}\n",
    "my_set2 = {\"Merve\", \"Ezgi\", \"Hatice\", \"Behice\", \"Kübra\"}\n",
    "\n",
    "my_set3 = my_set1 - my_set2\n",
    "print(my_set3)"
   ]
  },
  {
   "cell_type": "code",
   "execution_count": 54,
   "metadata": {},
   "outputs": [
    {
     "name": "stdout",
     "output_type": "stream",
     "text": [
      "{'Emre', 'Asena', 'Aysel'}\n"
     ]
    }
   ],
   "source": [
    "#difference()\n",
    "my_set1 = {\"Aysel\", \"Merve\", \"Emre\", \"Asena\", \"Ezgi\"}\n",
    "my_set2 = {\"Merve\", \"Ezgi\", \"Hatice\", \"Behice\", \"Kübra\"}\n",
    "\n",
    "my_set4 = my_set1.difference(my_set2)\n",
    "print(my_set4)"
   ]
  },
  {
   "cell_type": "code",
   "execution_count": 56,
   "metadata": {},
   "outputs": [
    {
     "name": "stdout",
     "output_type": "stream",
     "text": [
      "{'Emre', 'Asena', 'Aysel'}\n"
     ]
    }
   ],
   "source": [
    "#difference()\n",
    "my_set1 = {\"Aysel\", \"Merve\", \"Emre\", \"Asena\", \"Ezgi\"}\n",
    "my_set2 = {\"Merve\", \"Ezgi\", \"Hatice\", \"Behice\", \"Kübra\"}\n",
    "\n",
    "my_set4 = my_set1.difference_update(my_set2)\n",
    "print(my_set1)"
   ]
  },
  {
   "cell_type": "markdown",
   "metadata": {},
   "source": [
    "**Symmetric Difference** Kesişim dışındaki değerleri almak için kullanılır."
   ]
  },
  {
   "cell_type": "code",
   "execution_count": 59,
   "metadata": {},
   "outputs": [
    {
     "name": "stdout",
     "output_type": "stream",
     "text": [
      "{'Kübra', 'Hatice', 'Emre', 'Behice', 'Asena', 'Aysel'}\n"
     ]
    }
   ],
   "source": [
    "#symmetricDifference\n",
    "my_set1 = {\"Aysel\", \"Merve\", \"Emre\", \"Asena\", \"Ezgi\"}\n",
    "my_set2 = {\"Merve\", \"Ezgi\", \"Hatice\", \"Behice\", \"Kübra\"}\n",
    "\n",
    "unique_set = my_set1 ^ my_set2\n",
    "print(unique_set)"
   ]
  },
  {
   "cell_type": "code",
   "execution_count": 60,
   "metadata": {},
   "outputs": [
    {
     "name": "stdout",
     "output_type": "stream",
     "text": [
      "{'Kübra', 'Hatice', 'Emre', 'Behice', 'Asena', 'Aysel'}\n"
     ]
    }
   ],
   "source": [
    "#symmetricDifference\n",
    "my_set1 = {\"Aysel\", \"Merve\", \"Emre\", \"Asena\", \"Ezgi\"}\n",
    "my_set2 = {\"Merve\", \"Ezgi\", \"Hatice\", \"Behice\", \"Kübra\"}\n",
    "\n",
    "unique_set = my_set2.symmetric_difference(my_set1)\n",
    "print(unique_set)"
   ]
  },
  {
   "cell_type": "code",
   "execution_count": 58,
   "metadata": {},
   "outputs": [
    {
     "name": "stdout",
     "output_type": "stream",
     "text": [
      "{'Kübra', 'Hatice', 'Emre', 'Behice', 'Asena', 'Aysel'}\n"
     ]
    }
   ],
   "source": [
    "#symmetricDifference\n",
    "my_set1 = {\"Aysel\", \"Merve\", \"Emre\", \"Asena\", \"Ezgi\"}\n",
    "my_set2 = {\"Merve\", \"Ezgi\", \"Hatice\", \"Behice\", \"Kübra\"}\n",
    "\n",
    "my_set4 = my_set1.symmetric_difference(my_set2)\n",
    "print(my_set4)"
   ]
  },
  {
   "cell_type": "code",
   "execution_count": 61,
   "metadata": {},
   "outputs": [
    {
     "name": "stdout",
     "output_type": "stream",
     "text": [
      "{'Kübra', 'Hatice', 'Emre', 'Behice', 'Asena', 'Aysel'}\n"
     ]
    }
   ],
   "source": [
    "#symmetricDifference\n",
    "my_set1 = {\"Aysel\", \"Merve\", \"Emre\", \"Asena\", \"Ezgi\"}\n",
    "my_set2 = {\"Merve\", \"Ezgi\", \"Hatice\", \"Behice\", \"Kübra\"}\n",
    "\n",
    "my_set1.symmetric_difference_update(my_set2)\n",
    "print(my_set1)"
   ]
  },
  {
   "cell_type": "markdown",
   "metadata": {},
   "source": [
    "union haricinde update ile işlem yapabiliriz"
   ]
  },
  {
   "cell_type": "markdown",
   "metadata": {},
   "source": [
    "**Kopyalama İşlemleri**\n",
    "\n",
    "* copy ()\n",
    "* = \n",
    "bu şekilde atama operatörleri ile yaparsek \n",
    "* set"
   ]
  },
  {
   "cell_type": "code",
   "execution_count": 62,
   "metadata": {},
   "outputs": [
    {
     "name": "stdout",
     "output_type": "stream",
     "text": [
      "{'Sezen', True, 'Vildan', 18, 'Ahmet'}\n"
     ]
    }
   ],
   "source": [
    "# = operatörü ile\n",
    "my_set = {\"Sezen\", \"Ahmet\", True, 18}\n",
    "my_set2 = my_set\n",
    "\n",
    "my_set.add(\"Vildan\")\n",
    "print(my_set2)"
   ]
  },
  {
   "cell_type": "code",
   "execution_count": null,
   "metadata": {},
   "outputs": [],
   "source": [
    "#copy metodu ile\n",
    "my_set = {\"Sezen\", \"Ahmet\", True, 18}\n",
    "my_set2 = my_set.copy()\n",
    "\n",
    "my_set.add(\"Vildan\")\n",
    "print(my_set2)"
   ]
  },
  {
   "cell_type": "code",
   "execution_count": 63,
   "metadata": {},
   "outputs": [
    {
     "name": "stdout",
     "output_type": "stream",
     "text": [
      "{'Sezen', True, 18, 'Ahmet'}\n"
     ]
    }
   ],
   "source": [
    "#set metodu ile\n",
    "my_set = {\"Sezen\", \"Ahmet\", True, 18}\n",
    "my_set2 = set(my_set)\n",
    "\n",
    "my_set.add(\"Vildan\")\n",
    "print(my_set2)"
   ]
  }
 ],
 "metadata": {
  "kernelspec": {
   "display_name": "Python 3.10.8 64-bit (microsoft store)",
   "language": "python",
   "name": "python3"
  },
  "language_info": {
   "codemirror_mode": {
    "name": "ipython",
    "version": 3
   },
   "file_extension": ".py",
   "mimetype": "text/x-python",
   "name": "python",
   "nbconvert_exporter": "python",
   "pygments_lexer": "ipython3",
   "version": "3.10.8"
  },
  "orig_nbformat": 4,
  "vscode": {
   "interpreter": {
    "hash": "620709bbe62f41b2903c09c00116fe3b30041141e7e6e4a577e7caf8b0281995"
   }
  }
 },
 "nbformat": 4,
 "nbformat_minor": 2
}
