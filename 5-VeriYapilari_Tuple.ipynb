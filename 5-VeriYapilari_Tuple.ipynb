{
 "cells": [
  {
   "cell_type": "markdown",
   "metadata": {},
   "source": [
    "**Tuple**\n",
    "\n",
    "* index ile erişebilir, ordered yani sıralıdır.\n",
    "* Tuple değiştrilimezler (immutable). Oluşturuldaktan sonra bir eleman eklenemez, silinemez.\n",
    "* () parantez içerisinde tanımlanır. Elemanlar virgüller ile ayrılır.\n",
    "* Farklı veri tipleri içerebilir.\n",
    "* Duplicate veri olabilir. Aynı eleman birden fazla yer alabilir."
   ]
  },
  {
   "cell_type": "code",
   "execution_count": null,
   "metadata": {},
   "outputs": [],
   "source": [
    "int_tuple = (1, 3, 5)\n",
    "string_tuple = (\"Python\", \"kotlin\", \"Javascript\", \"Flutter\")\n",
    "mix_tuple = (1, 6, 4, 1, \"Python\", True, 13.4)\n",
    "\n",
    "print(mix_tuple)"
   ]
  }
 ],
 "metadata": {
  "kernelspec": {
   "display_name": "Python 3.10.8 64-bit (microsoft store)",
   "language": "python",
   "name": "python3"
  },
  "language_info": {
   "name": "python",
   "version": "3.10.8"
  },
  "orig_nbformat": 4,
  "vscode": {
   "interpreter": {
    "hash": "620709bbe62f41b2903c09c00116fe3b30041141e7e6e4a577e7caf8b0281995"
   }
  }
 },
 "nbformat": 4,
 "nbformat_minor": 2
}
