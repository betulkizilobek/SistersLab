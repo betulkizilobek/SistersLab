{
 "cells": [
  {
   "cell_type": "markdown",
   "metadata": {},
   "source": [
    "Python Kullanım Alanları\n",
    "\n",
    "Web Geliştirme\n",
    "Oyun Geliştirme\n",
    "Yapay Zeka ve Makine Öğrenimi\n",
    "Görüntü İşleme\n",
    "Veri Bilimi\n",
    "Sağlık\n",
    "Crawling\n",
    "Ses Teknoloji"
   ]
  },
  {
   "cell_type": "code",
   "execution_count": 1,
   "metadata": {},
   "outputs": [
    {
     "name": "stdout",
     "output_type": "stream",
     "text": [
      "Hello World\n"
     ]
    }
   ],
   "source": [
    "print(\"Hello World\")"
   ]
  },
  {
   "cell_type": "markdown",
   "metadata": {},
   "source": [
    "**Değişkenler**\n",
    "\n",
    "Proglama dilinde verileri tutan yapılardır.\n",
    "\n",
    "**variable_name = variable_value**"
   ]
  },
  {
   "cell_type": "code",
   "execution_count": 2,
   "metadata": {},
   "outputs": [
    {
     "name": "stdout",
     "output_type": "stream",
     "text": [
      "Betül\n",
      "22\n",
      "2000.5\n"
     ]
    }
   ],
   "source": [
    "name = \"Betül\"\n",
    "age = 22\n",
    "salary = 2000.50\n",
    "\n",
    "print(name)\n",
    "print(age)\n",
    "print(salary)"
   ]
  },
  {
   "cell_type": "markdown",
   "metadata": {},
   "source": [
    "**Değişken Tanımlama Kuralları**\n",
    "\n",
    "* Değişken harf, rakam, alt çizgi kombinasyonunu içermeli\n",
    "* Rakamla başlamamalı\n",
    "* Büyük küçük harf duyarlı\n",
    "\n",
    "**Bir değişkenin değerini değiştirme**"
   ]
  },
  {
   "cell_type": "code",
   "execution_count": 3,
   "metadata": {},
   "outputs": [
    {
     "name": "stdout",
     "output_type": "stream",
     "text": [
      "11\n"
     ]
    }
   ],
   "source": [
    "variable = 11\n",
    "\n",
    "print(variable)"
   ]
  },
  {
   "cell_type": "markdown",
   "metadata": {},
   "source": [
    "**Type()**\n",
    "\n",
    "Değişken tipini öğrenmek için kullanılır."
   ]
  },
  {
   "cell_type": "code",
   "execution_count": 4,
   "metadata": {},
   "outputs": [
    {
     "data": {
      "text/plain": [
       "int"
      ]
     },
     "execution_count": 4,
     "metadata": {},
     "output_type": "execute_result"
    }
   ],
   "source": [
    "type(variable)"
   ]
  },
  {
   "cell_type": "code",
   "execution_count": 5,
   "metadata": {},
   "outputs": [
    {
     "name": "stdout",
     "output_type": "stream",
     "text": [
      "Betül\n"
     ]
    }
   ],
   "source": [
    "variable = \"Betül\"\n",
    "\n",
    "print(variable)"
   ]
  },
  {
   "cell_type": "code",
   "execution_count": 6,
   "metadata": {},
   "outputs": [
    {
     "data": {
      "text/plain": [
       "str"
      ]
     },
     "execution_count": 6,
     "metadata": {},
     "output_type": "execute_result"
    }
   ],
   "source": [
    "type(variable)"
   ]
  },
  {
   "cell_type": "markdown",
   "metadata": {},
   "source": [
    "Büyük küçük harf duyarlıdır."
   ]
  },
  {
   "cell_type": "code",
   "execution_count": 7,
   "metadata": {},
   "outputs": [
    {
     "name": "stdout",
     "output_type": "stream",
     "text": [
      "Betül\n",
      "Kızılobek\n"
     ]
    }
   ],
   "source": [
    "variable = \"Betül\"\n",
    "Variable = \"Kızılobek\"\n",
    "\n",
    "print(variable)\n",
    "print(Variable)"
   ]
  },
  {
   "cell_type": "markdown",
   "metadata": {},
   "source": [
    "**Değişken Tanımlarken Kullanamayacağımız Keywordler**\n",
    "* False                       \n",
    "* None                        \n",
    "* True                        \n",
    "* __peg_parser__                       \n",
    "* and\n",
    "* as\n",
    "* assert\n",
    "* async\n",
    "* await\n",
    "* break\n",
    "* class\n",
    "* continue\n",
    "* def\n",
    "* del\n",
    "* elif\n",
    "* else\n",
    "* except\n",
    "* finally\n",
    "* for\n",
    "* from\n",
    "* global\n",
    "* if\n",
    "* import\n",
    "* in\n",
    "* is\n",
    "* lambda\n",
    "* nonlocal\n",
    "* not\n",
    "* or\n",
    "* pass\n",
    "* raiese\n",
    "* return\n",
    "* try\n",
    "* while\n",
    "* with\n",
    "* yield\n"
   ]
  },
  {
   "cell_type": "markdown",
   "metadata": {},
   "source": [
    "**Veri Tipler**\n",
    "* Int\n",
    "* Float\n",
    "* Boolean\n",
    "* String"
   ]
  },
  {
   "cell_type": "markdown",
   "metadata": {},
   "source": [
    "**Integer**"
   ]
  },
  {
   "cell_type": "code",
   "execution_count": null,
   "metadata": {},
   "outputs": [],
   "source": [
    "age = 22\n",
    "salary = 1500"
   ]
  },
  {
   "cell_type": "markdown",
   "metadata": {},
   "source": [
    "**Float**"
   ]
  },
  {
   "cell_type": "code",
   "execution_count": null,
   "metadata": {},
   "outputs": [],
   "source": []
  },
  {
   "cell_type": "code",
   "execution_count": null,
   "metadata": {},
   "outputs": [],
   "source": [
    "pi_sayisi = 3.14"
   ]
  },
  {
   "cell_type": "markdown",
   "metadata": {},
   "source": [
    "**Boolean**\n",
    "\n",
    "True - False"
   ]
  },
  {
   "cell_type": "code",
   "execution_count": null,
   "metadata": {},
   "outputs": [],
   "source": [
    "isFemale = True"
   ]
  },
  {
   "cell_type": "markdown",
   "metadata": {},
   "source": [
    "**String**"
   ]
  },
  {
   "cell_type": "code",
   "execution_count": null,
   "metadata": {},
   "outputs": [],
   "source": [
    "language = \"Python\""
   ]
  },
  {
   "cell_type": "markdown",
   "metadata": {},
   "source": [
    "**Çoklu Değişken Atama**"
   ]
  },
  {
   "cell_type": "code",
   "execution_count": 8,
   "metadata": {},
   "outputs": [
    {
     "name": "stdout",
     "output_type": "stream",
     "text": [
      "20\n"
     ]
    }
   ],
   "source": [
    "number1 = number2 = number3 = 20\n",
    "\n",
    "print(number2)"
   ]
  },
  {
   "cell_type": "code",
   "execution_count": 9,
   "metadata": {},
   "outputs": [
    {
     "name": "stdout",
     "output_type": "stream",
     "text": [
      "Ulaş\n",
      "21\n",
      "30000.3\n",
      "b\n",
      "False\n"
     ]
    }
   ],
   "source": [
    "name, age, salary, letter, isNumber = \"Ulaş\", 21, 30000.30, 'b', False\n",
    "\n",
    "print(name)\n",
    "print(age)\n",
    "print(salary)\n",
    "print(letter)\n",
    "print(isNumber)"
   ]
  },
  {
   "cell_type": "markdown",
   "metadata": {},
   "source": [
    "**Değişkenlerde Kapsam**\n",
    "\n",
    "* Yerel\n",
    "* Global\n",
    "\n",
    "**Yerel Değişken**\n",
    "\n",
    "Tanımlandığı yerdeki kod bloğunda çalışan değişkenlerdir. Başka yerden erişilemezler."
   ]
  },
  {
   "cell_type": "code",
   "execution_count": 10,
   "metadata": {},
   "outputs": [
    {
     "name": "stdout",
     "output_type": "stream",
     "text": [
      "Salary1  10000\n"
     ]
    },
    {
     "ename": "NameError",
     "evalue": "name 'salary1' is not defined",
     "output_type": "error",
     "traceback": [
      "\u001b[1;31m---------------------------------------------------------------------------\u001b[0m",
      "\u001b[1;31mNameError\u001b[0m                                 Traceback (most recent call last)",
      "Cell \u001b[1;32mIn [10], line 9\u001b[0m\n\u001b[0;32m      6\u001b[0m   \u001b[39mprint\u001b[39m(\u001b[39m\"\u001b[39m\u001b[39msalary2 \u001b[39m\u001b[39m\"\u001b[39m, salary1)\n\u001b[0;32m      8\u001b[0m getSalary1()\n\u001b[1;32m----> 9\u001b[0m getSalary2()\n",
      "Cell \u001b[1;32mIn [10], line 6\u001b[0m, in \u001b[0;36mgetSalary2\u001b[1;34m()\u001b[0m\n\u001b[0;32m      5\u001b[0m \u001b[39mdef\u001b[39;00m \u001b[39mgetSalary2\u001b[39m():\n\u001b[1;32m----> 6\u001b[0m   \u001b[39mprint\u001b[39m(\u001b[39m\"\u001b[39m\u001b[39msalary2 \u001b[39m\u001b[39m\"\u001b[39m, salary1)\n",
      "\u001b[1;31mNameError\u001b[0m: name 'salary1' is not defined"
     ]
    }
   ],
   "source": [
    "def getSalary1():\n",
    "  salary1 = 10000\n",
    "  print(\"Salary1 \", salary1)\n",
    "\n",
    "def getSalary2():\n",
    "  print(\"salary2 \", salary1)\n",
    "\n",
    "getSalary1()\n",
    "getSalary2()"
   ]
  },
  {
   "cell_type": "markdown",
   "metadata": {},
   "source": [
    "**Global Değişkenler**\n",
    "\n",
    "Kodun her yerinden erişilebilen değişkenlerdir."
   ]
  },
  {
   "cell_type": "code",
   "execution_count": 11,
   "metadata": {},
   "outputs": [
    {
     "name": "stdout",
     "output_type": "stream",
     "text": [
      "salary2  10000\n",
      "Salary1  10000\n",
      "main  10000\n"
     ]
    }
   ],
   "source": [
    "salary1 = 10000\n",
    "\n",
    "def getSalary1():\n",
    "  print(\"Salary1 \", salary1)\n",
    "\n",
    "def getSalary2():\n",
    "  print(\"salary2 \", salary1)\n",
    "\n",
    "getSalary2()\n",
    "getSalary1()\n",
    "\n",
    "print(\"main \", salary1)"
   ]
  },
  {
   "cell_type": "code",
   "execution_count": 12,
   "metadata": {},
   "outputs": [
    {
     "name": "stdout",
     "output_type": "stream",
     "text": [
      "salary2  10000\n",
      "Salary1  15000\n",
      "main  15000\n"
     ]
    }
   ],
   "source": [
    "salary1 = 10000\n",
    "\n",
    "def getSalary1():\n",
    "  global salary1\n",
    "  salary1 = 15000\n",
    "  print(\"Salary1 \", salary1)\n",
    "\n",
    "def getSalary2():\n",
    "  print(\"salary2 \", salary1)\n",
    "\n",
    "getSalary2()\n",
    "getSalary1()\n",
    "\n",
    "print(\"main \", salary1)"
   ]
  },
  {
   "cell_type": "markdown",
   "metadata": {},
   "source": [
    "**Operatörler**\n",
    "\n",
    "* + Toplama\n",
    "\n",
    "* - Çıkarma\n",
    "\n",
    "* '*' Çarpma\n",
    "\n",
    "* / Float Bölme\n",
    "\n",
    "* // Int Bölme\n",
    "\n",
    "* % Mod Alma\n",
    "\n",
    "* ** Üs Alma"
   ]
  },
  {
   "cell_type": "code",
   "execution_count": 13,
   "metadata": {},
   "outputs": [
    {
     "name": "stdout",
     "output_type": "stream",
     "text": [
      "3 + 2 =  5\n",
      "7 - 3 =  4\n",
      "5 * 4 =  20\n",
      "6 / 3 =  2.0\n",
      "6 //4 =  1\n",
      "9 % 4 =  1\n",
      "2 ** 5=  32\n"
     ]
    }
   ],
   "source": [
    "print(\"3 + 2 = \", 3 + 2)\n",
    "print(\"7 - 3 = \", 7 - 3)\n",
    "print(\"5 * 4 = \", 5 * 4)\n",
    "print(\"6 / 3 = \", 6 / 3)\n",
    "print(\"6 //4 = \", 6 //4)\n",
    "print(\"9 % 4 = \", 9 % 4)\n",
    "print(\"2 ** 5= \", 2 **5)"
   ]
  },
  {
   "cell_type": "markdown",
   "metadata": {},
   "source": [
    "**İlişkisel (karşılaştırma) Operatörleri**\n",
    "\n",
    "* < Küçüktür\n",
    "\n",
    "* '>' Büyüktür\n",
    "\n",
    "* <= Küçük Eşittir\n",
    "\n",
    "* '>=' Büyük Eşittir\n",
    "\n",
    "* == Eşittir\n",
    "\n",
    "* != Eşit Değildir"
   ]
  },
  {
   "cell_type": "code",
   "execution_count": 14,
   "metadata": {},
   "outputs": [
    {
     "name": "stdout",
     "output_type": "stream",
     "text": [
      "False\n",
      "True\n"
     ]
    }
   ],
   "source": [
    "a = 29\n",
    "b = 13\n",
    "\n",
    "print(a < b)\n",
    "print(a > b)"
   ]
  },
  {
   "cell_type": "markdown",
   "metadata": {},
   "source": [
    "**Atama Operatörleri**\n",
    "\n",
    "* =\n",
    "* +=\n",
    "* -=\n",
    "* =\n",
    "* /= \n",
    "* //=\n",
    " * %=\n",
    "* **="
   ]
  },
  {
   "cell_type": "code",
   "execution_count": 15,
   "metadata": {},
   "outputs": [
    {
     "name": "stdout",
     "output_type": "stream",
     "text": [
      "1\n",
      "3\n",
      "2\n",
      "18\n",
      "9.0\n",
      "2.0\n",
      "8.0\n",
      "2.0\n"
     ]
    }
   ],
   "source": [
    "x = 1\n",
    "print(x)\n",
    "\n",
    "x += 2 # x = x + 2\n",
    "print(x)\n",
    "\n",
    "x -= 1 # x = x - 1\n",
    "print(x)\n",
    "\n",
    "x *= 9 # x = x * 9\n",
    "print(x)\n",
    "\n",
    "x /= 2 # x = x / 2\n",
    "print(x)\n",
    "\n",
    "x //= 4 # x = x // 4\n",
    "print(x)\n",
    "\n",
    "x **= 3 # x = x ** 3\n",
    "print(x)\n",
    "\n",
    "x %= 3 # x = x % 3\n",
    "print(x)"
   ]
  },
  {
   "cell_type": "markdown",
   "metadata": {},
   "source": [
    "**Python Comments** "
   ]
  },
  {
   "cell_type": "code",
   "execution_count": 16,
   "metadata": {},
   "outputs": [
    {
     "name": "stdout",
     "output_type": "stream",
     "text": [
      "Selamlar\n"
     ]
    }
   ],
   "source": [
    "# print(\"bu bir yorum satırıdır\")\n",
    "\n",
    "'''\n",
    "print(\"Selamlar\") \n",
    "print(\"bu bir yorum satırıdır\")\n",
    "'''\n",
    "\n",
    "print(\"Selamlar\")"
   ]
  },
  {
   "cell_type": "code",
   "execution_count": 17,
   "metadata": {},
   "outputs": [
    {
     "name": "stdout",
     "output_type": "stream",
     "text": [
      "15\n",
      "3.14\n",
      "Başarısız\n"
     ]
    }
   ],
   "source": [
    "number = 15\n",
    "pi = 3.14\n",
    "result = \"Başarısız\"\n",
    "\n",
    "print(number)\n",
    "print(pi)\n",
    "print(result)"
   ]
  },
  {
   "cell_type": "code",
   "execution_count": 18,
   "metadata": {},
   "outputs": [
    {
     "name": "stdout",
     "output_type": "stream",
     "text": [
      "15.0\n",
      "3\n"
     ]
    }
   ],
   "source": [
    "print(float(number))\n",
    "print(int(pi))"
   ]
  },
  {
   "cell_type": "code",
   "execution_count": 19,
   "metadata": {},
   "outputs": [
    {
     "name": "stdout",
     "output_type": "stream",
     "text": [
      "80\n",
      "80\n"
     ]
    },
    {
     "ename": "ValueError",
     "evalue": "invalid literal for int() with base 10: 'seksen'",
     "output_type": "error",
     "traceback": [
      "\u001b[1;31m---------------------------------------------------------------------------\u001b[0m",
      "\u001b[1;31mValueError\u001b[0m                                Traceback (most recent call last)",
      "Cell \u001b[1;32mIn [19], line 3\u001b[0m\n\u001b[0;32m      1\u001b[0m \u001b[39mprint\u001b[39m(\u001b[39mint\u001b[39m(\u001b[39m\"\u001b[39m\u001b[39m80\u001b[39m\u001b[39m\"\u001b[39m))\n\u001b[0;32m      2\u001b[0m \u001b[39mprint\u001b[39m(\u001b[39mstr\u001b[39m(\u001b[39m80\u001b[39m))\n\u001b[1;32m----> 3\u001b[0m \u001b[39mprint\u001b[39m(\u001b[39mint\u001b[39;49m(\u001b[39m\"\u001b[39;49m\u001b[39mseksen\u001b[39;49m\u001b[39m\"\u001b[39;49m))\n",
      "\u001b[1;31mValueError\u001b[0m: invalid literal for int() with base 10: 'seksen'"
     ]
    }
   ],
   "source": [
    "print(int(\"80\"))\n",
    "print(str(80))\n",
    "print(int(\"seksen\"))"
   ]
  },
  {
   "cell_type": "markdown",
   "metadata": {},
   "source": [
    "**print() ve format()**"
   ]
  },
  {
   "cell_type": "code",
   "execution_count": 20,
   "metadata": {},
   "outputs": [
    {
     "name": "stdout",
     "output_type": "stream",
     "text": [
      "Hoş geldin  Betül Kızılobek\n"
     ]
    }
   ],
   "source": [
    "name = \"Betül Kızılobek\"\n",
    "print(\"Hoş Geldin \", name)"
   ]
  },
  {
   "cell_type": "code",
   "execution_count": 21,
   "metadata": {},
   "outputs": [
    {
     "name": "stdout",
     "output_type": "stream",
     "text": [
      "Hoş Geldin Betül Kızılobek, Seni Aramızda Gördüğümüz İçin Mutluyuz\n"
     ]
    }
   ],
   "source": [
    "print(\"Hoş Geldin {}, Seni Aramızda Gördüğümüz İçin Mutluyuz\".format(name))"
   ]
  },
  {
   "cell_type": "code",
   "execution_count": 23,
   "metadata": {},
   "outputs": [
    {
     "name": "stdout",
     "output_type": "stream",
     "text": [
      "Hoş Geldin Betül Kızılobek, Seni Python Dersinde Gördüğümüz İçin Mutluyuz\n"
     ]
    }
   ],
   "source": [
    "lesson = \"Python\"\n",
    "print(\"Hoş Geldin {}, Seni {} Dersinde Gördüğümüz İçin Mutluyuz\".format(name,lesson))"
   ]
  },
  {
   "cell_type": "code",
   "execution_count": 24,
   "metadata": {},
   "outputs": [
    {
     "name": "stdout",
     "output_type": "stream",
     "text": [
      "Hoş Geldin Betül Kızılobek, Seni Python dersinde gördüğümüz için Mutluyuz\n"
     ]
    }
   ],
   "source": [
    "print(f\"Hoş Geldin {name}, Seni {lesson} dersinde gördüğümüz için Mutluyuz\")"
   ]
  },
  {
   "cell_type": "code",
   "execution_count": 25,
   "metadata": {},
   "outputs": [
    {
     "name": "stdout",
     "output_type": "stream",
     "text": [
      "İsminizi Giriniz: \n",
      "Hoş geldin  Betül\n"
     ]
    }
   ],
   "source": [
    "print(\"İsminizi Giriniz: \")\n",
    "name = input()\n",
    "\n",
    "print(\"Hoş geldin \", name)"
   ]
  }
 ],
 "metadata": {
  "kernelspec": {
   "display_name": "Python 3.10.8 64-bit (microsoft store)",
   "language": "python",
   "name": "python3"
  },
  "language_info": {
   "codemirror_mode": {
    "name": "ipython",
    "version": 3
   },
   "file_extension": ".py",
   "mimetype": "text/x-python",
   "name": "python",
   "nbconvert_exporter": "python",
   "pygments_lexer": "ipython3",
   "version": "3.10.8"
  },
  "orig_nbformat": 4,
  "vscode": {
   "interpreter": {
    "hash": "620709bbe62f41b2903c09c00116fe3b30041141e7e6e4a577e7caf8b0281995"
   }
  }
 },
 "nbformat": 4,
 "nbformat_minor": 2
}
