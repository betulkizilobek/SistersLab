{
 "cells": [
  {
   "cell_type": "markdown",
   "metadata": {},
   "source": [
    "**Fonksiyonlar**\n",
    "\n",
    "Sürekli tekrarlanması gereken işlemlerde aynı kodu tekrar tekrar yazmadan aynı işlevi birden çok kez gerçekleyebildiğimiz durumlarda kullanılır.\n",
    "\n",
    "**def** anahtar kelimesi ile oluşturulur.\n",
    "\n",
    "def fonksiyon_ismi(): (required) return(optional)\n",
    "\n",
    "* Parametreli\n",
    "\n",
    "* Parametresiz"
   ]
  },
  {
   "cell_type": "code",
   "execution_count": 1,
   "metadata": {},
   "outputs": [
    {
     "name": "stdout",
     "output_type": "stream",
     "text": [
      "Hoş geldiniz!\n"
     ]
    }
   ],
   "source": [
    "def selamla():\n",
    "    print(\"Hoş geldiniz!\")\n",
    "\n",
    "selamla()"
   ]
  },
  {
   "cell_type": "code",
   "execution_count": 2,
   "metadata": {},
   "outputs": [
    {
     "name": "stdout",
     "output_type": "stream",
     "text": [
      "Hoş geldin Bilge\n"
     ]
    }
   ],
   "source": [
    "def selamla(name):\n",
    "    print(f\"Hoş geldin {name}\")\n",
    "\n",
    "selamla(\"Bilge\")"
   ]
  },
  {
   "cell_type": "code",
   "execution_count": 3,
   "metadata": {},
   "outputs": [
    {
     "name": "stdout",
     "output_type": "stream",
     "text": [
      "Sonuç:  13\n"
     ]
    }
   ],
   "source": [
    "def add(num1, num2):\n",
    "    num3 = num1 + num2\n",
    "    return num3\n",
    "\n",
    "result = add(4, 9)\n",
    "print(\"Sonuç: \", result)"
   ]
  },
  {
   "cell_type": "code",
   "execution_count": 4,
   "metadata": {},
   "outputs": [
    {
     "name": "stdout",
     "output_type": "stream",
     "text": [
      "Sonuç:  13\n"
     ]
    }
   ],
   "source": [
    "def add(num1, num2):\n",
    "    return num1 + num2\n",
    "\n",
    "print(\"Sonuç: \", add(4, 9))"
   ]
  },
  {
   "cell_type": "markdown",
   "metadata": {},
   "source": [
    "**Modülün import edilmesi ile beraber fonksiyon kullanımı**"
   ]
  },
  {
   "cell_type": "code",
   "execution_count": 5,
   "metadata": {},
   "outputs": [
    {
     "name": "stdout",
     "output_type": "stream",
     "text": [
      "161\n"
     ]
    }
   ],
   "source": [
    "from random import randint\n",
    "\n",
    "print(randint(10, 200))"
   ]
  },
  {
   "cell_type": "markdown",
   "metadata": {},
   "source": [
    "**Birden Fazla Dönüş**"
   ]
  },
  {
   "cell_type": "code",
   "execution_count": 6,
   "metadata": {},
   "outputs": [
    {
     "name": "stdout",
     "output_type": "stream",
     "text": [
      "iki değerin;\n",
      "Toplamı: 15\n",
      "Çıkarma: 9\n",
      "Çarpımı: 36\n",
      "Bölme:4.0\n"
     ]
    }
   ],
   "source": [
    "def calculater(num1, num2):\n",
    "    add = num1 + num2\n",
    "    sub = num1 - num2\n",
    "    multiply = num1 * num2\n",
    "    division = num1 / num2\n",
    "\n",
    "    return add, sub, multiply, division\n",
    "\n",
    "a, b, c, d = calculater(12, 3)\n",
    "print(f\"iki değerin;\\nToplamı: {a}\\nÇıkarma: {b}\\nÇarpımı: {c}\\nBölme:{d}\")"
   ]
  },
  {
   "cell_type": "markdown",
   "metadata": {},
   "source": [
    "**Fonskiyonlar İçerisinde Değişkenlerin Kapsamı**\n",
    "\n",
    "* Yerel Değişken\n",
    "\n",
    "* Global Değişken"
   ]
  },
  {
   "cell_type": "code",
   "execution_count": 7,
   "metadata": {},
   "outputs": [
    {
     "name": "stdout",
     "output_type": "stream",
     "text": [
      "Fonksiyon içerisinde  Local\n",
      "Fonksiyon içerisinde  Global\n",
      "Fonksiyon dışında  Global\n"
     ]
    },
    {
     "ename": "NameError",
     "evalue": "name 'local_variable' is not defined",
     "output_type": "error",
     "traceback": [
      "\u001b[1;31m---------------------------------------------------------------------------\u001b[0m",
      "\u001b[1;31mNameError\u001b[0m                                 Traceback (most recent call last)",
      "Cell \u001b[1;32mIn [7], line 10\u001b[0m\n\u001b[0;32m      8\u001b[0m func()\n\u001b[0;32m      9\u001b[0m \u001b[39mprint\u001b[39m(\u001b[39m\"\u001b[39m\u001b[39mFonksiyon dışında \u001b[39m\u001b[39m\"\u001b[39m, global_variable)\n\u001b[1;32m---> 10\u001b[0m \u001b[39mprint\u001b[39m(\u001b[39m\"\u001b[39m\u001b[39mFonksiyon dışında \u001b[39m\u001b[39m\"\u001b[39m, local_variable)\n",
      "\u001b[1;31mNameError\u001b[0m: name 'local_variable' is not defined"
     ]
    }
   ],
   "source": [
    "global_variable = \"Global\"\n",
    "\n",
    "def func():\n",
    "    local_variable = \"Local\"\n",
    "    print(\"Fonksiyon içerisinde \", local_variable)\n",
    "    print(\"Fonksiyon içerisinde \", global_variable)\n",
    "\n",
    "func()\n",
    "print(\"Fonksiyon dışında \", global_variable)\n",
    "print(\"Fonksiyon dışında \", local_variable)"
   ]
  },
  {
   "cell_type": "code",
   "execution_count": 8,
   "metadata": {},
   "outputs": [
    {
     "name": "stdout",
     "output_type": "stream",
     "text": [
      "9\n",
      "4\n",
      "9\n"
     ]
    }
   ],
   "source": [
    "a = 9\n",
    "\n",
    "def print1():\n",
    "    print(a) #global\n",
    "\n",
    "def print2():\n",
    "    a = 4 \n",
    "    print(a) #yerel\n",
    "\n",
    "def print3():\n",
    "    print(a) #global\n",
    "\n",
    "print1()\n",
    "print2()\n",
    "print3()"
   ]
  },
  {
   "cell_type": "code",
   "execution_count": 9,
   "metadata": {},
   "outputs": [
    {
     "name": "stdout",
     "output_type": "stream",
     "text": [
      "9\n",
      "4\n",
      "4\n"
     ]
    }
   ],
   "source": [
    "a = 9\n",
    "\n",
    "def print1():\n",
    "    print(a) #global\n",
    "\n",
    "def print2():\n",
    "    global a\n",
    "    a = 4\n",
    "    print(a) #global\n",
    "\n",
    "def print3():\n",
    "    print(a) #global\n",
    "\n",
    "print1()\n",
    "print2()\n",
    "print3()"
   ]
  },
  {
   "cell_type": "markdown",
   "metadata": {},
   "source": [
    "**Default Parametre Tanımlama**"
   ]
  },
  {
   "cell_type": "code",
   "execution_count": 13,
   "metadata": {},
   "outputs": [
    {
     "name": "stdout",
     "output_type": "stream",
     "text": [
      "Hoş geldin  Betül\n",
      "Hoş geldin  Sisterslab\n"
     ]
    }
   ],
   "source": [
    "def say_hello(name = \"Sisterslab\"):\n",
    "    print(\"Hoş geldin \", name)\n",
    "\n",
    "say_hello(\"Betül\")\n",
    "say_hello()"
   ]
  },
  {
   "cell_type": "code",
   "execution_count": 12,
   "metadata": {},
   "outputs": [
    {
     "name": "stdout",
     "output_type": "stream",
     "text": [
      "Betül adlı personel 22 yaşında. Maaşı: 10000\n",
      "Ulaş adlı personel 21 yaşında. Maaşı: 5000\n"
     ]
    }
   ],
   "source": [
    "def person(name, age, salary = 5000):\n",
    "    print(f\"{name} adlı personel {age} yaşında. Maaşı: {salary}\")\n",
    "\n",
    "person(\"Betül\", 22, 10000)\n",
    "person(\"Ulaş\", 21)"
   ]
  },
  {
   "cell_type": "code",
   "execution_count": 14,
   "metadata": {},
   "outputs": [
    {
     "name": "stdout",
     "output_type": "stream",
     "text": [
      "Toplam:  0\n",
      "Toplam:  19\n",
      "Toplam:  110.6\n"
     ]
    }
   ],
   "source": [
    "def add(*numbers):\n",
    "    total = 0\n",
    "    for i in numbers:\n",
    "        total += i\n",
    "    print(\"Toplam: \", total)\n",
    "\n",
    "add() # 0 argument\n",
    "add(1, 4, 6, 8) # 4 arguments\n",
    "add(13.6, 7, 90) # 3 arguments"
   ]
  },
  {
   "cell_type": "markdown",
   "metadata": {},
   "source": [
    "*Bir sayının asal olup olmadığını dönen fonksiyonu yazalım.*"
   ]
  },
  {
   "cell_type": "code",
   "execution_count": 3,
   "metadata": {},
   "outputs": [
    {
     "name": "stdout",
     "output_type": "stream",
     "text": [
      "True\n"
     ]
    }
   ],
   "source": [
    "def asal(number):\n",
    "    result = True\n",
    "    for i in range(2, number):\n",
    "        if number % i == 0:\n",
    "            result = False\n",
    "            break\n",
    "    return result\n",
    "\n",
    "print(asal(17))"
   ]
  }
 ],
 "metadata": {
  "kernelspec": {
   "display_name": "Python 3.10.8 64-bit (microsoft store)",
   "language": "python",
   "name": "python3"
  },
  "language_info": {
   "codemirror_mode": {
    "name": "ipython",
    "version": 3
   },
   "file_extension": ".py",
   "mimetype": "text/x-python",
   "name": "python",
   "nbconvert_exporter": "python",
   "pygments_lexer": "ipython3",
   "version": "3.10.8"
  },
  "orig_nbformat": 4,
  "vscode": {
   "interpreter": {
    "hash": "620709bbe62f41b2903c09c00116fe3b30041141e7e6e4a577e7caf8b0281995"
   }
  }
 },
 "nbformat": 4,
 "nbformat_minor": 2
}
